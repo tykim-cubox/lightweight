{
 "cells": [
  {
   "cell_type": "code",
   "execution_count": 2,
   "metadata": {},
   "outputs": [],
   "source": [
    "%%capture\n",
    "import torch\n",
    "from torch import nn\n",
    "import torch.nn.utils.prune as prune\n",
    "import torch.nn.functional as F"
   ]
  },
  {
   "cell_type": "code",
   "execution_count": 3,
   "metadata": {},
   "outputs": [],
   "source": [
    "device = torch.device(\"cuda\" if torch.cuda.is_available() else \"cpu\")\n",
    "\n",
    "class LeNet(nn.Module):\n",
    "    def __init__(self):\n",
    "        super(LeNet, self).__init__()\n",
    "        # 1 input image channel, 6 output channels, 3x3 square conv kernel\n",
    "        self.conv1 = nn.Conv2d(1, 6, 3)\n",
    "        self.conv2 = nn.Conv2d(6, 16, 3)\n",
    "        self.fc1 = nn.Linear(16 * 5 * 5, 120)  # 5x5 image dimension\n",
    "        self.fc2 = nn.Linear(120, 84)\n",
    "        self.fc3 = nn.Linear(84, 10)\n",
    "\n",
    "    def forward(self, x):\n",
    "        x = F.max_pool2d(F.relu(self.conv1(x)), (2, 2))\n",
    "        x = F.max_pool2d(F.relu(self.conv2(x)), 2)\n",
    "        x = x.view(-1, int(x.nelement() / x.shape[0]))\n",
    "        x = F.relu(self.fc1(x))\n",
    "        x = F.relu(self.fc2(x))\n",
    "        x = self.fc3(x)\n",
    "        return x\n",
    "\n",
    "model = LeNet().to(device=device)"
   ]
  },
  {
   "cell_type": "code",
   "execution_count": 6,
   "metadata": {},
   "outputs": [
    {
     "name": "stdout",
     "output_type": "stream",
     "text": [
      "[('weight', Parameter containing:\n",
      "tensor([[[[-0.0160,  0.0219,  0.1897],\n",
      "          [-0.0759,  0.3223, -0.3320],\n",
      "          [ 0.0951, -0.1537,  0.1104]]],\n",
      "\n",
      "\n",
      "        [[[ 0.2471,  0.1803,  0.2617],\n",
      "          [ 0.2884,  0.0868,  0.2820],\n",
      "          [-0.1179, -0.3237, -0.0119]]],\n",
      "\n",
      "\n",
      "        [[[ 0.1588, -0.0374,  0.2655],\n",
      "          [-0.1122,  0.1555,  0.0783],\n",
      "          [-0.0316,  0.2062,  0.0100]]],\n",
      "\n",
      "\n",
      "        [[[-0.2645, -0.1667,  0.1493],\n",
      "          [-0.1339, -0.1278, -0.1950],\n",
      "          [-0.1236, -0.1453, -0.1251]]],\n",
      "\n",
      "\n",
      "        [[[-0.2411, -0.1354,  0.2701],\n",
      "          [-0.0532, -0.0379,  0.0947],\n",
      "          [ 0.0527,  0.2622, -0.3064]]],\n",
      "\n",
      "\n",
      "        [[[ 0.0064,  0.0065, -0.0417],\n",
      "          [ 0.2583, -0.0291, -0.2060],\n",
      "          [-0.2816, -0.0771,  0.2594]]]], device='cuda:0', requires_grad=True)), ('bias', Parameter containing:\n",
      "tensor([-0.1107,  0.0557,  0.1571,  0.1655,  0.2612, -0.0051], device='cuda:0',\n",
      "       requires_grad=True))]\n",
      "[]\n"
     ]
    }
   ],
   "source": [
    "module = model.conv1\n",
    "print(list(module.named_parameters()))\n",
    "print(list(module.named_buffers()))"
   ]
  },
  {
   "cell_type": "code",
   "execution_count": 7,
   "metadata": {},
   "outputs": [
    {
     "data": {
      "text/plain": [
       "Conv2d(1, 6, kernel_size=(3, 3), stride=(1, 1))"
      ]
     },
     "execution_count": 7,
     "metadata": {},
     "output_type": "execute_result"
    }
   ],
   "source": [
    "prune.random_unstructured(module, name=\"weight\", amount=0.3)"
   ]
  },
  {
   "cell_type": "code",
   "execution_count": 8,
   "metadata": {},
   "outputs": [
    {
     "name": "stdout",
     "output_type": "stream",
     "text": [
      "[('bias', Parameter containing:\n",
      "tensor([-0.1107,  0.0557,  0.1571,  0.1655,  0.2612, -0.0051], device='cuda:0',\n",
      "       requires_grad=True)), ('weight_orig', Parameter containing:\n",
      "tensor([[[[-0.0160,  0.0219,  0.1897],\n",
      "          [-0.0759,  0.3223, -0.3320],\n",
      "          [ 0.0951, -0.1537,  0.1104]]],\n",
      "\n",
      "\n",
      "        [[[ 0.2471,  0.1803,  0.2617],\n",
      "          [ 0.2884,  0.0868,  0.2820],\n",
      "          [-0.1179, -0.3237, -0.0119]]],\n",
      "\n",
      "\n",
      "        [[[ 0.1588, -0.0374,  0.2655],\n",
      "          [-0.1122,  0.1555,  0.0783],\n",
      "          [-0.0316,  0.2062,  0.0100]]],\n",
      "\n",
      "\n",
      "        [[[-0.2645, -0.1667,  0.1493],\n",
      "          [-0.1339, -0.1278, -0.1950],\n",
      "          [-0.1236, -0.1453, -0.1251]]],\n",
      "\n",
      "\n",
      "        [[[-0.2411, -0.1354,  0.2701],\n",
      "          [-0.0532, -0.0379,  0.0947],\n",
      "          [ 0.0527,  0.2622, -0.3064]]],\n",
      "\n",
      "\n",
      "        [[[ 0.0064,  0.0065, -0.0417],\n",
      "          [ 0.2583, -0.0291, -0.2060],\n",
      "          [-0.2816, -0.0771,  0.2594]]]], device='cuda:0', requires_grad=True))]\n"
     ]
    }
   ],
   "source": [
    "print(list(module.named_parameters()))"
   ]
  },
  {
   "cell_type": "code",
   "execution_count": 9,
   "metadata": {},
   "outputs": [
    {
     "name": "stdout",
     "output_type": "stream",
     "text": [
      "[('weight_mask', tensor([[[[1., 1., 1.],\n",
      "          [1., 1., 1.],\n",
      "          [0., 1., 0.]]],\n",
      "\n",
      "\n",
      "        [[[1., 1., 1.],\n",
      "          [1., 1., 1.],\n",
      "          [0., 1., 1.]]],\n",
      "\n",
      "\n",
      "        [[[0., 1., 0.],\n",
      "          [1., 0., 1.],\n",
      "          [0., 1., 1.]]],\n",
      "\n",
      "\n",
      "        [[[1., 1., 0.],\n",
      "          [0., 1., 1.],\n",
      "          [1., 0., 1.]]],\n",
      "\n",
      "\n",
      "        [[[0., 0., 1.],\n",
      "          [1., 1., 0.],\n",
      "          [0., 1., 0.]]],\n",
      "\n",
      "\n",
      "        [[[1., 1., 1.],\n",
      "          [1., 1., 1.],\n",
      "          [1., 1., 0.]]]], device='cuda:0'))]\n"
     ]
    }
   ],
   "source": [
    "print(list(module.named_buffers()))"
   ]
  },
  {
   "cell_type": "code",
   "execution_count": 10,
   "metadata": {},
   "outputs": [
    {
     "name": "stdout",
     "output_type": "stream",
     "text": [
      "tensor([[[[-0.0160,  0.0219,  0.1897],\n",
      "          [-0.0759,  0.3223, -0.3320],\n",
      "          [ 0.0000, -0.1537,  0.0000]]],\n",
      "\n",
      "\n",
      "        [[[ 0.2471,  0.1803,  0.2617],\n",
      "          [ 0.2884,  0.0868,  0.2820],\n",
      "          [-0.0000, -0.3237, -0.0119]]],\n",
      "\n",
      "\n",
      "        [[[ 0.0000, -0.0374,  0.0000],\n",
      "          [-0.1122,  0.0000,  0.0783],\n",
      "          [-0.0000,  0.2062,  0.0100]]],\n",
      "\n",
      "\n",
      "        [[[-0.2645, -0.1667,  0.0000],\n",
      "          [-0.0000, -0.1278, -0.1950],\n",
      "          [-0.1236, -0.0000, -0.1251]]],\n",
      "\n",
      "\n",
      "        [[[-0.0000, -0.0000,  0.2701],\n",
      "          [-0.0532, -0.0379,  0.0000],\n",
      "          [ 0.0000,  0.2622, -0.0000]]],\n",
      "\n",
      "\n",
      "        [[[ 0.0064,  0.0065, -0.0417],\n",
      "          [ 0.2583, -0.0291, -0.2060],\n",
      "          [-0.2816, -0.0771,  0.0000]]]], device='cuda:0',\n",
      "       grad_fn=<MulBackward0>)\n"
     ]
    }
   ],
   "source": [
    "print(module.weight)"
   ]
  },
  {
   "cell_type": "code",
   "execution_count": 11,
   "metadata": {},
   "outputs": [
    {
     "name": "stdout",
     "output_type": "stream",
     "text": [
      "OrderedDict([(0, <torch.nn.utils.prune.RandomUnstructured object at 0x7fa727e55a00>)])\n"
     ]
    }
   ],
   "source": [
    "print(module._forward_pre_hooks)"
   ]
  },
  {
   "cell_type": "code",
   "execution_count": 15,
   "metadata": {},
   "outputs": [
    {
     "data": {
      "text/plain": [
       "Conv2d(1, 6, kernel_size=(3, 3), stride=(1, 1))"
      ]
     },
     "execution_count": 15,
     "metadata": {},
     "output_type": "execute_result"
    }
   ],
   "source": [
    "prune.l1_unstructured(module, name=\"bias\", amount=3)"
   ]
  },
  {
   "cell_type": "code",
   "execution_count": 16,
   "metadata": {},
   "outputs": [
    {
     "name": "stdout",
     "output_type": "stream",
     "text": [
      "[('weight_orig', Parameter containing:\n",
      "tensor([[[[-0.0160,  0.0219,  0.1897],\n",
      "          [-0.0759,  0.3223, -0.3320],\n",
      "          [ 0.0951, -0.1537,  0.1104]]],\n",
      "\n",
      "\n",
      "        [[[ 0.2471,  0.1803,  0.2617],\n",
      "          [ 0.2884,  0.0868,  0.2820],\n",
      "          [-0.1179, -0.3237, -0.0119]]],\n",
      "\n",
      "\n",
      "        [[[ 0.1588, -0.0374,  0.2655],\n",
      "          [-0.1122,  0.1555,  0.0783],\n",
      "          [-0.0316,  0.2062,  0.0100]]],\n",
      "\n",
      "\n",
      "        [[[-0.2645, -0.1667,  0.1493],\n",
      "          [-0.1339, -0.1278, -0.1950],\n",
      "          [-0.1236, -0.1453, -0.1251]]],\n",
      "\n",
      "\n",
      "        [[[-0.2411, -0.1354,  0.2701],\n",
      "          [-0.0532, -0.0379,  0.0947],\n",
      "          [ 0.0527,  0.2622, -0.3064]]],\n",
      "\n",
      "\n",
      "        [[[ 0.0064,  0.0065, -0.0417],\n",
      "          [ 0.2583, -0.0291, -0.2060],\n",
      "          [-0.2816, -0.0771,  0.2594]]]], device='cuda:0', requires_grad=True)), ('bias_orig', Parameter containing:\n",
      "tensor([-0.1107,  0.0557,  0.1571,  0.1655,  0.2612, -0.0051], device='cuda:0',\n",
      "       requires_grad=True))]\n"
     ]
    }
   ],
   "source": [
    "print(list(module.named_parameters()))"
   ]
  },
  {
   "cell_type": "code",
   "execution_count": 17,
   "metadata": {},
   "outputs": [
    {
     "name": "stdout",
     "output_type": "stream",
     "text": [
      "[('weight_mask', tensor([[[[1., 1., 1.],\n",
      "          [1., 1., 1.],\n",
      "          [0., 1., 0.]]],\n",
      "\n",
      "\n",
      "        [[[1., 1., 1.],\n",
      "          [1., 1., 1.],\n",
      "          [0., 1., 1.]]],\n",
      "\n",
      "\n",
      "        [[[0., 1., 0.],\n",
      "          [1., 0., 1.],\n",
      "          [0., 1., 1.]]],\n",
      "\n",
      "\n",
      "        [[[1., 1., 0.],\n",
      "          [0., 1., 1.],\n",
      "          [1., 0., 1.]]],\n",
      "\n",
      "\n",
      "        [[[0., 0., 1.],\n",
      "          [1., 1., 0.],\n",
      "          [0., 1., 0.]]],\n",
      "\n",
      "\n",
      "        [[[1., 1., 1.],\n",
      "          [1., 1., 1.],\n",
      "          [1., 1., 0.]]]], device='cuda:0')), ('bias_mask', tensor([0., 0., 1., 1., 1., 0.], device='cuda:0'))]\n"
     ]
    }
   ],
   "source": [
    "print(list(module.named_buffers()))"
   ]
  },
  {
   "cell_type": "code",
   "execution_count": 18,
   "metadata": {},
   "outputs": [
    {
     "name": "stdout",
     "output_type": "stream",
     "text": [
      "tensor([-0.0000, 0.0000, 0.1571, 0.1655, 0.2612, -0.0000], device='cuda:0',\n",
      "       grad_fn=<MulBackward0>)\n"
     ]
    }
   ],
   "source": [
    "print(module.bias)"
   ]
  },
  {
   "cell_type": "code",
   "execution_count": 19,
   "metadata": {},
   "outputs": [
    {
     "name": "stdout",
     "output_type": "stream",
     "text": [
      "OrderedDict([(0, <torch.nn.utils.prune.RandomUnstructured object at 0x7fa727e55a00>), (1, <torch.nn.utils.prune.L1Unstructured object at 0x7fa727e5aee0>)])\n"
     ]
    }
   ],
   "source": [
    "print(module._forward_pre_hooks)"
   ]
  },
  {
   "cell_type": "code",
   "execution_count": 20,
   "metadata": {},
   "outputs": [
    {
     "name": "stdout",
     "output_type": "stream",
     "text": [
      "[('bias_orig', Parameter containing:\n",
      "tensor([-0.1107,  0.0557,  0.1571,  0.1655,  0.2612, -0.0051], device='cuda:0',\n",
      "       requires_grad=True)), ('weight', Parameter containing:\n",
      "tensor([[[[-0.0160,  0.0219,  0.1897],\n",
      "          [-0.0759,  0.3223, -0.3320],\n",
      "          [ 0.0000, -0.1537,  0.0000]]],\n",
      "\n",
      "\n",
      "        [[[ 0.2471,  0.1803,  0.2617],\n",
      "          [ 0.2884,  0.0868,  0.2820],\n",
      "          [-0.0000, -0.3237, -0.0119]]],\n",
      "\n",
      "\n",
      "        [[[ 0.0000, -0.0374,  0.0000],\n",
      "          [-0.1122,  0.0000,  0.0783],\n",
      "          [-0.0000,  0.2062,  0.0100]]],\n",
      "\n",
      "\n",
      "        [[[-0.2645, -0.1667,  0.0000],\n",
      "          [-0.0000, -0.1278, -0.1950],\n",
      "          [-0.1236, -0.0000, -0.1251]]],\n",
      "\n",
      "\n",
      "        [[[-0.0000, -0.0000,  0.2701],\n",
      "          [-0.0532, -0.0379,  0.0000],\n",
      "          [ 0.0000,  0.2622, -0.0000]]],\n",
      "\n",
      "\n",
      "        [[[ 0.0064,  0.0065, -0.0417],\n",
      "          [ 0.2583, -0.0291, -0.2060],\n",
      "          [-0.2816, -0.0771,  0.0000]]]], device='cuda:0', requires_grad=True))]\n"
     ]
    }
   ],
   "source": [
    "prune.remove(module, 'weight')\n",
    "print(list(module.named_parameters()))"
   ]
  },
  {
   "cell_type": "code",
   "execution_count": 21,
   "metadata": {},
   "outputs": [
    {
     "name": "stdout",
     "output_type": "stream",
     "text": [
      "[('bias_mask', tensor([0., 0., 1., 1., 1., 0.], device='cuda:0'))]\n"
     ]
    }
   ],
   "source": [
    "print(list(module.named_buffers()))"
   ]
  },
  {
   "cell_type": "code",
   "execution_count": 22,
   "metadata": {},
   "outputs": [
    {
     "name": "stdout",
     "output_type": "stream",
     "text": [
      "dict_keys(['conv1.weight_mask', 'conv2.weight_mask', 'fc1.weight_mask', 'fc2.weight_mask', 'fc3.weight_mask'])\n"
     ]
    }
   ],
   "source": [
    "new_model = LeNet()\n",
    "for name, module in new_model.named_modules():\n",
    "    # prune 20% of connections in all 2D-conv layers\n",
    "    if isinstance(module, torch.nn.Conv2d):\n",
    "        prune.l1_unstructured(module, name='weight', amount=0.2)\n",
    "    # prune 40% of connections in all linear layers\n",
    "    elif isinstance(module, torch.nn.Linear):\n",
    "        prune.l1_unstructured(module, name='weight', amount=0.4)\n",
    "\n",
    "print(dict(new_model.named_buffers()).keys())  # to verify that all masks exist"
   ]
  },
  {
   "cell_type": "code",
   "execution_count": 23,
   "metadata": {},
   "outputs": [],
   "source": [
    "for name, module in new_model.named_modules():\n",
    "    try:\n",
    "        prune.remove(module, 'weight')\n",
    "        prune.remove(module, 'bias')\n",
    "    except:\n",
    "        pass"
   ]
  },
  {
   "cell_type": "code",
   "execution_count": 24,
   "metadata": {},
   "outputs": [
    {
     "name": "stdout",
     "output_type": "stream",
     "text": [
      "dict_keys([])\n"
     ]
    }
   ],
   "source": [
    "print(dict(new_model.named_buffers()).keys())"
   ]
  },
  {
   "cell_type": "code",
   "execution_count": 25,
   "metadata": {},
   "outputs": [],
   "source": [
    "model = LeNet()\n",
    "\n",
    "parameters_to_prune = (\n",
    "    (model.conv1, 'weight'),\n",
    "    (model.conv2, 'weight'),\n",
    "    (model.fc1, 'weight'),\n",
    "    (model.fc2, 'weight'),\n",
    "    (model.fc3, 'weight'),\n",
    ")\n",
    "\n",
    "prune.global_unstructured(\n",
    "    parameters_to_prune,\n",
    "    pruning_method=prune.L1Unstructured,\n",
    "    amount=0.2,\n",
    ")"
   ]
  },
  {
   "cell_type": "code",
   "execution_count": 27,
   "metadata": {},
   "outputs": [
    {
     "name": "stdout",
     "output_type": "stream",
     "text": [
      "Sparsity in conv1.weight: 5.56%\n",
      "Sparsity in conv2.weight: 7.29%\n",
      "Sparsity in fc1.weight: 22.06%\n",
      "Sparsity in fc2.weight: 12.23%\n",
      "Sparsity in fc3.weight: 9.64%\n"
     ]
    }
   ],
   "source": [
    "print(\n",
    "    \"Sparsity in conv1.weight: {:.2f}%\".format(\n",
    "        100. * float(torch.sum(model.conv1.weight == 0))\n",
    "        / float(model.conv1.weight.nelement())\n",
    "    )\n",
    ")\n",
    "print(\n",
    "    \"Sparsity in conv2.weight: {:.2f}%\".format(\n",
    "        100. * float(torch.sum(model.conv2.weight == 0))\n",
    "        / float(model.conv2.weight.nelement())\n",
    "    )\n",
    ")\n",
    "print(\n",
    "    \"Sparsity in fc1.weight: {:.2f}%\".format(\n",
    "        100. * float(torch.sum(model.fc1.weight == 0))\n",
    "        / float(model.fc1.weight.nelement())\n",
    "    )\n",
    ")\n",
    "print(\n",
    "    \"Sparsity in fc2.weight: {:.2f}%\".format(\n",
    "        100. * float(torch.sum(model.fc2.weight == 0))\n",
    "        / float(model.fc2.weight.nelement())\n",
    "    )\n",
    ")\n",
    "print(\n",
    "    \"Sparsity in fc3.weight: {:.2f}%\".format(\n",
    "        100. * float(torch.sum(model.fc3.weight == 0))\n",
    "        / float(model.fc3.weight.nelement())\n",
    "    )\n",
    ")"
   ]
  },
  {
   "cell_type": "code",
   "execution_count": 28,
   "metadata": {},
   "outputs": [
    {
     "name": "stdout",
     "output_type": "stream",
     "text": [
      "Global sparsity: 20.00%\n"
     ]
    }
   ],
   "source": [
    "print(\n",
    "    \"Global sparsity: {:.2f}%\".format(\n",
    "        100. * float(\n",
    "            torch.sum(model.conv1.weight == 0)\n",
    "            + torch.sum(model.conv2.weight == 0)\n",
    "            + torch.sum(model.fc1.weight == 0)\n",
    "            + torch.sum(model.fc2.weight == 0)\n",
    "            + torch.sum(model.fc3.weight == 0)\n",
    "        )\n",
    "        / float(\n",
    "            model.conv1.weight.nelement()\n",
    "            + model.conv2.weight.nelement()\n",
    "            + model.fc1.weight.nelement()\n",
    "            + model.fc2.weight.nelement()\n",
    "            + model.fc3.weight.nelement()\n",
    "        )\n",
    "    )\n",
    ")"
   ]
  },
  {
   "cell_type": "code",
   "execution_count": null,
   "metadata": {},
   "outputs": [],
   "source": []
  }
 ],
 "metadata": {
  "kernelspec": {
   "display_name": "Python 3.9.13 ('loader')",
   "language": "python",
   "name": "python3"
  },
  "language_info": {
   "codemirror_mode": {
    "name": "ipython",
    "version": 3
   },
   "file_extension": ".py",
   "mimetype": "text/x-python",
   "name": "python",
   "nbconvert_exporter": "python",
   "pygments_lexer": "ipython3",
   "version": "3.9.13"
  },
  "orig_nbformat": 4,
  "vscode": {
   "interpreter": {
    "hash": "a254999b829cf7a75923305dbce36972a67b91fdc16edd342b076b25e04d6382"
   }
  }
 },
 "nbformat": 4,
 "nbformat_minor": 2
}
