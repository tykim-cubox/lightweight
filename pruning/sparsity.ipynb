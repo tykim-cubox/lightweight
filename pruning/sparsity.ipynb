{
 "cells": [
  {
   "cell_type": "code",
   "execution_count": 2,
   "metadata": {},
   "outputs": [],
   "source": [
    "import operator\n",
    "import gzip\n",
    "import numpy as np\n",
    "from functools import reduce"
   ]
  },
  {
   "cell_type": "code",
   "execution_count": 26,
   "metadata": {},
   "outputs": [],
   "source": [
    "def sparsify_smallest(w, sparsity_rate):\n",
    "    w = w.copy()\n",
    "    w_1d = np.reshape(w, (-1))\n",
    "    num_element_to_zero = int(w_1d.shape[0] * sparsity_rate)\n",
    "    w_1d_sorted_indicies = np.argsort(np.abs(w_1d))\n",
    "    w_1d[w_1d_sorted_indicies[:num_element_to_zero]] = 0\n",
    "\n",
    "    return np.reshape(w_1d, w.shape)\n",
    "\n",
    "\n",
    "def compress_and_save(w):\n",
    "  # Compress the weights matrix using gzip.\n",
    "  compressed_w = gzip.compress(w.tobytes())\n",
    "  return compressed_w"
   ]
  },
  {
   "cell_type": "code",
   "execution_count": 27,
   "metadata": {},
   "outputs": [
    {
     "name": "stdout",
     "output_type": "stream",
     "text": [
      "Original Size: 40000\n",
      "Original Compressed Size: 37074\n",
      "Sparsified Compressed Size: 24840\n"
     ]
    }
   ],
   "source": [
    "weights = np.random.normal(size=(100, 100)).astype(np.float32)\n",
    "sparsity_rate = 0.4\n",
    "sparse_weights = sparsify_smallest(weights, sparsity_rate)\n",
    "\n",
    "\n",
    "print('Original Size:', reduce(operator.mul, weights.shape)*weights.itemsize) # weights.itemsize = 4\n",
    "\n",
    "weights_compressed = compress_and_save(weights)\n",
    "print('Original Compressed Size:', len(weights_compressed))\n",
    "\n",
    "\n",
    "weights_sparsified_compressed = compress_and_save(sparse_weights)\n",
    "print('Sparsified Compressed Size:', len(weights_sparsified_compressed))"
   ]
  },
  {
   "cell_type": "code",
   "execution_count": null,
   "metadata": {},
   "outputs": [],
   "source": []
  }
 ],
 "metadata": {
  "kernelspec": {
   "display_name": "Python 3.9.13 ('loader')",
   "language": "python",
   "name": "python3"
  },
  "language_info": {
   "codemirror_mode": {
    "name": "ipython",
    "version": 3
   },
   "file_extension": ".py",
   "mimetype": "text/x-python",
   "name": "python",
   "nbconvert_exporter": "python",
   "pygments_lexer": "ipython3",
   "version": "3.9.13"
  },
  "orig_nbformat": 4,
  "vscode": {
   "interpreter": {
    "hash": "a254999b829cf7a75923305dbce36972a67b91fdc16edd342b076b25e04d6382"
   }
  }
 },
 "nbformat": 4,
 "nbformat_minor": 2
}
