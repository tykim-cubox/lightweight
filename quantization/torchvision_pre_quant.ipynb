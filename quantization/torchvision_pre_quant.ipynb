{
 "cells": [
  {
   "cell_type": "code",
   "execution_count": 1,
   "metadata": {},
   "outputs": [
    {
     "name": "stderr",
     "output_type": "stream",
     "text": [
      "/home/aiteam/miniconda3/envs/loader/lib/python3.9/site-packages/tqdm/auto.py:22: TqdmWarning: IProgress not found. Please update jupyter and ipywidgets. See https://ipywidgets.readthedocs.io/en/stable/user_install.html\n",
      "  from .autonotebook import tqdm as notebook_tqdm\n",
      "/home/aiteam/miniconda3/envs/loader/lib/python3.9/site-packages/torchvision/models/_utils.py:223: UserWarning: Arguments other than a weight enum or `None` for 'weights' are deprecated since 0.13 and will be removed in 0.15. The current behavior is equivalent to passing `weights=ResNet50_Weights.IMAGENET1K_V1`. You can also use `weights=ResNet50_Weights.DEFAULT` to get the most up-to-date weights.\n",
      "  warnings.warn(msg)\n",
      "/home/aiteam/miniconda3/envs/loader/lib/python3.9/site-packages/torchvision/models/_utils.py:223: UserWarning: Arguments other than a weight enum or `None` for 'weights' are deprecated since 0.13 and will be removed in 0.15. The current behavior is equivalent to passing `weights=ResNet50_QuantizedWeights.IMAGENET1K_FBGEMM_V1`. You can also use `weights=ResNet50_QuantizedWeights.DEFAULT` to get the most up-to-date weights.\n",
      "  warnings.warn(msg)\n"
     ]
    }
   ],
   "source": [
    "import torchvision\n",
    "from torchvision.models import quantization\n",
    "\n",
    "# 기존의 ResNet50 Weight를 가져오는 것도 가능한데 성능 차이가 있을 듯\n",
    "from torchvision.models import ResNet50_Weights, resnet50\n",
    "\n",
    "# Non-qunatized version\n",
    "standard_model = resnet50(weights=ResNet50_Weights.auto)\n",
    "# Quanitzed version\n",
    "quantized_model = quantization.resnet50(weights=quantization.ResNet50_QuantizedWeights.auto, quantize=True)"
   ]
  },
  {
   "cell_type": "code",
   "execution_count": 2,
   "metadata": {},
   "outputs": [],
   "source": [
    "import torch"
   ]
  },
  {
   "cell_type": "code",
   "execution_count": 3,
   "metadata": {},
   "outputs": [
    {
     "name": "stdout",
     "output_type": "stream",
     "text": [
      "609 ms ± 87.1 ms per loop (mean ± std. dev. of 10 runs, 3 loops each)\n"
     ]
    }
   ],
   "source": [
    "%%timeit -r 10 -n 3\n",
    "input_fp32 = torch.randn(32, 3, 224, 224)\n",
    "res = standard_model(input_fp32)"
   ]
  },
  {
   "cell_type": "code",
   "execution_count": 4,
   "metadata": {},
   "outputs": [
    {
     "name": "stdout",
     "output_type": "stream",
     "text": [
      "105 ms ± 10.4 ms per loop (mean ± std. dev. of 10 runs, 3 loops each)\n"
     ]
    }
   ],
   "source": [
    "%%timeit -r 10 -n 3\n",
    "input_fp32 = torch.randn(32, 3, 224, 224)\n",
    "res = quantized_model(input_fp32)"
   ]
  }
 ],
 "metadata": {
  "kernelspec": {
   "display_name": "Python 3.9.13 ('loader')",
   "language": "python",
   "name": "python3"
  },
  "language_info": {
   "codemirror_mode": {
    "name": "ipython",
    "version": 3
   },
   "file_extension": ".py",
   "mimetype": "text/x-python",
   "name": "python",
   "nbconvert_exporter": "python",
   "pygments_lexer": "ipython3",
   "version": "3.9.13"
  },
  "orig_nbformat": 4,
  "vscode": {
   "interpreter": {
    "hash": "a254999b829cf7a75923305dbce36972a67b91fdc16edd342b076b25e04d6382"
   }
  }
 },
 "nbformat": 4,
 "nbformat_minor": 2
}
