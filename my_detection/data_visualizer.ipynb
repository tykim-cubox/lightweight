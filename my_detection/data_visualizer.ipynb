{
 "cells": [
  {
   "cell_type": "code",
   "execution_count": 1,
   "metadata": {},
   "outputs": [],
   "source": [
    "# Visualizer\n",
    "import cv2\n",
    "import json\n",
    "import matplotlib.pyplot as plt\n",
    "f = open('/home/aiteam/tykim/scratch/lightweight/my_detection/hold_smartphone/annos/a0.json')\n",
    "  \n",
    "# returns JSON object as \n",
    "# a dictionary\n",
    "data = json.load(f)"
   ]
  },
  {
   "cell_type": "code",
   "execution_count": null,
   "metadata": {},
   "outputs": [],
   "source": [
    "def get_target(anno_file):\n",
    "    with open(anno_file) as f:\n",
    "        data = json.load(f)\n",
    "        \n",
    "    # bbox\n",
    "    x_min, y_min = int(data['shapes'][0]['points'][0][0]), int(data['shapes'][0]['points'][0][1])\n",
    "    x_max, y_max = int(data['shapes'][0]['points'][1][0]), int(data['shapes'][0]['points'][1][1])\n",
    "    label = data['shapes'][0]['label']\n",
    "    \n",
    "    return x_min, y_min, x_max, y_max, label\n",
    "\n",
    "def class_to_color(class_id):\n",
    "    colors = [(255,0,0),(0,255,0),(0,0,255),(255,255,0),(255,0,255),(0,255,255),(255,100,100),\n",
    "              (100,255,100),(100,100,255),(255,100,0),(255,0,100),(100,0,255),(100,100,255),(100,255,0),\n",
    "              (100,255,100)]\n",
    "    return colors[class_id]"
   ]
  },
  {
   "cell_type": "code",
   "execution_count": null,
   "metadata": {},
   "outputs": [],
   "source": [
    "# Get image as numpy array\n",
    "def load_image(name, path):\n",
    "    img_path = path + name + '.jpg'\n",
    "    img = cv2.imread(img_path)\n",
    "    return img"
   ]
  },
  {
   "cell_type": "code",
   "execution_count": null,
   "metadata": {},
   "outputs": [],
   "source": [
    "img = cv2.imread('/home/aiteam/tykim/scratch/lightweight/my_detection/hold_smartphone/imgs/a0.jpg', cv2.IMREAD_COLOR)\n",
    "img.shape"
   ]
  },
  {
   "cell_type": "code",
   "execution_count": null,
   "metadata": {},
   "outputs": [],
   "source": [
    "color = class_to_color(1)\n",
    "img = cv2.imread('/home/aiteam/tykim/scratch/lightweight/my_detection/hold_smartphone/imgs/a0.jpg')\n",
    "cv2.rectangle(img,(x_min,y_min),(x_max,y_max), color, 2)\n",
    "RGB_img = cv2.cvtColor(img, cv2.COLOR_BGR2RGB)\n",
    "plt.imshow(RGB_img)"
   ]
  }
 ],
 "metadata": {
  "kernelspec": {
   "display_name": "Python 3.9.13 ('loader')",
   "language": "python",
   "name": "python3"
  },
  "language_info": {
   "codemirror_mode": {
    "name": "ipython",
    "version": 3
   },
   "file_extension": ".py",
   "mimetype": "text/x-python",
   "name": "python",
   "nbconvert_exporter": "python",
   "pygments_lexer": "ipython3",
   "version": "3.9.13"
  },
  "orig_nbformat": 4,
  "vscode": {
   "interpreter": {
    "hash": "a254999b829cf7a75923305dbce36972a67b91fdc16edd342b076b25e04d6382"
   }
  }
 },
 "nbformat": 4,
 "nbformat_minor": 2
}
